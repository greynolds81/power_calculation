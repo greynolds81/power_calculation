{
 "cells": [
  {
   "cell_type": "code",
   "execution_count": 54,
   "metadata": {},
   "outputs": [],
   "source": [
    "library(scPower)\n",
    "library(reshape2)\n",
    "library(ggplot2)\n",
    "library(useful)\n",
    "library(dplyr)\n",
    "library(Seurat)\n",
    "library(viridis)\n",
    "library(data.table)\n",
    "library(harmony)\n",
    "library(stringr)\n",
    "library(readr)\n",
    "library(DESeq2)\n",
    "library(tximportData)\n",
    "library(tximport)\n",
    "library(useful)"
   ]
  },
  {
   "cell_type": "markdown",
   "metadata": {},
   "source": [
    "\n",
    "\n",
    "***scPower calculation Part 1 - expression power with reference scRNAseq dataset***\n",
    "\n"
   ]
  },
  {
   "cell_type": "code",
   "execution_count": 63,
   "metadata": {},
   "outputs": [],
   "source": [
    "setwd(\"/home/jovyan/data/arthur_grant/lilian_data\")\n",
    "ST<-readRDS(\"prelim_ST_data.RDS\")"
   ]
  },
  {
   "cell_type": "code",
   "execution_count": 64,
   "metadata": {},
   "outputs": [],
   "source": [
    "###Subsample data\n",
    "ST_100 = ST\n",
    "ST_75 = subset(ST, cells = sample(Cells(ST), 2250))\n",
    "ST_50 = subset(ST, cells = sample(Cells(ST), 1500))\n",
    "ST_25 = subset(ST, cells = sample(Cells(ST), 750))"
   ]
  },
  {
   "cell_type": "code",
   "execution_count": 65,
   "metadata": {},
   "outputs": [],
   "source": [
    "###Get raw data\n",
    "data_100<-as.data.frame(as.matrix(GetAssayData(ST, slot = \"counts\")))\n",
    "data_75<-as.data.frame(as.matrix(GetAssayData(ST_75, slot = \"counts\")))\n",
    "data_50<-as.data.frame(as.matrix(GetAssayData(ST_50, slot = \"counts\")))\n",
    "data_25<-as.data.frame(as.matrix(GetAssayData(ST_25, slot = \"counts\")))"
   ]
  },
  {
   "cell_type": "code",
   "execution_count": 66,
   "metadata": {},
   "outputs": [],
   "source": [
    "###Build relevant metadata\n",
    "meta_100<-dplyr::select(ST_100@meta.data, orig.ident, seurat_clusters)\n",
    "colnames(meta_100)<-c(\"individual\", \"cell.type\")\n",
    "meta_100$individual<-as.character(meta_100$individual)\n",
    "meta_100$cell.type<-as.character(meta_100$cell.type)\n",
    "\n",
    "meta_75<-dplyr::select(ST_75@meta.data, orig.ident, seurat_clusters)\n",
    "colnames(meta_75)<-c(\"individual\", \"cell.type\")\n",
    "meta_75$individual<-as.character(meta_75$individual)\n",
    "meta_75$cell.type<-as.character(meta_75$cell.type)\n",
    "\n",
    "meta_50<-dplyr::select(ST_50@meta.data, orig.ident, seurat_clusters)\n",
    "colnames(meta_50)<-c(\"individual\", \"cell.type\")\n",
    "meta_50$individual<-as.character(meta_50$individual)\n",
    "meta_50$cell.type<-as.character(meta_50$cell.type)\n",
    "\n",
    "meta_25<-dplyr::select(ST_25@meta.data, orig.ident, seurat_clusters)\n",
    "colnames(meta_25)<-c(\"individual\", \"cell.type\")\n",
    "meta_25$individual<-as.character(meta_25$individual)\n",
    "meta_25$cell.type<-as.character(meta_25$cell.type)"
   ]
  },
  {
   "cell_type": "code",
   "execution_count": 67,
   "metadata": {},
   "outputs": [],
   "source": [
    "meta_list<-list(ST_data_100 = meta_100, ST_data_75 = meta_75, ST_data_50 = meta_50, ST_data_25 = meta_25) "
   ]
  },
  {
   "cell_type": "code",
   "execution_count": 68,
   "metadata": {},
   "outputs": [],
   "source": [
    "total<-list(ST_data_100 = data_100, ST_data_75 = data_75, ST_data_50 = data_50, ST_data_25 = data_25)"
   ]
  },
  {
   "cell_type": "code",
   "execution_count": 69,
   "metadata": {},
   "outputs": [],
   "source": [
    "###counting observed expressed genes for each \n",
    "\n",
    "expressed.genes.df<-NULL\n",
    "\n",
    "for(name in names(total)){\n",
    "    count.matrix<-total[[name]]\n",
    "    annot.df<-data.frame(individual = meta_list[[name]]$individual, cell.type = meta_list[[name]]$cell.type)\n",
    "    pseudo.bulk<-create.pseudobulk(count.matrix, annot.df)\n",
    "    expressed.genes<-calculate.gene.counts(pseudo.bulk)\n",
    "    num.expressed.genes<-nrow(expressed.genes)\n",
    "    expressed.genes.df<-rbind(expressed.genes.df, data.frame(matrix=name,num.cells=ncol(count.matrix), expressed.genes=num.expressed.genes))\n",
    "}"
   ]
  },
  {
   "cell_type": "code",
   "execution_count": 70,
   "metadata": {},
   "outputs": [
    {
     "name": "stderr",
     "output_type": "stream",
     "text": [
      "Loading required package: DESeq\n",
      "\n",
      "Loading required package: locfit\n",
      "\n",
      "locfit 1.5-9.4 \t 2020-03-24\n",
      "\n",
      "\n",
      "Attaching package: ‘locfit’\n",
      "\n",
      "\n",
      "The following objects are masked from ‘package:useful’:\n",
      "\n",
      "    left, right\n",
      "\n",
      "\n",
      "Loading required package: lattice\n",
      "\n",
      "    Welcome to 'DESeq'. For improved performance, usability and\n",
      "    functionality, please consider migrating to 'DESeq2'.\n",
      "\n",
      "\n",
      "Attaching package: ‘DESeq’\n",
      "\n",
      "\n",
      "The following objects are masked from ‘package:DESeq2’:\n",
      "\n",
      "    estimateSizeFactorsForMatrix, getVarianceStabilizedData,\n",
      "    varianceStabilizingTransformation\n",
      "\n",
      "\n"
     ]
    }
   ],
   "source": [
    "###Estimate negative binomial parameters for each gene\n",
    "\n",
    "norm.mean.values<-NULL\n",
    "disp.param<-NULL\n",
    "for(name in names(total)){\n",
    "    temp<-nbinom.estimation(total[[name]], sizeFactors=\"poscounts\")\n",
    "    norm.mean.values.temp<-temp[[1]] \n",
    "    norm.mean.values.temp$matrix<-name\n",
    "    norm.mean.values<-rbind(norm.mean.values,norm.mean.values.temp)\n",
    "    disp.param.temp<-temp[[3]] \n",
    "    disp.param.temp$matrix<-name \n",
    "    disp.param<-rbind(disp.param,disp.param.temp)\n",
    "}"
   ]
  },
  {
   "cell_type": "code",
   "execution_count": 71,
   "metadata": {},
   "outputs": [
    {
     "name": "stdout",
     "output_type": "stream",
     "text": [
      "            asymptDisp extraPois      matrix\n",
      "asymptDisp   0.4891070 0.1335818 ST_data_100\n",
      "asymptDisp1  0.5011244 0.1401110  ST_data_75\n",
      "asymptDisp2  0.4826669 0.1559002  ST_data_50\n",
      "asymptDisp3  0.5335945 0.1760486  ST_data_25\n"
     ]
    }
   ],
   "source": [
    "print(disp.param)"
   ]
  },
  {
   "cell_type": "code",
   "execution_count": 72,
   "metadata": {},
   "outputs": [
    {
     "name": "stderr",
     "output_type": "stream",
     "text": [
      "Warning message in em(mean.vals, ncomp = 3, prop = c(zero.prop, 1 - (zero.prop + :\n",
      "“Problem in the EM algorithm: likelihood is decreasing!”\n",
      "Warning message in em(mean.vals, ncomp = 3, prop = c(zero.prop, 1 - (zero.prop + :\n",
      "“Problem in the EM algorithm: likelihood is decreasing!”\n"
     ]
    }
   ],
   "source": [
    "###Estimation of a gamma mixture distribution over all means\n",
    "\n",
    "gamma.fits<-NULL\n",
    "for(name in names(total)){\n",
    "    censoredPoint<- 1 / ncol(total[[name]])\n",
    "    norm.mean.values.temp<-norm.mean.values[norm.mean.values$matrix==name,] \n",
    "    gamma.fit.temp<-mixed.gamma.estimation(norm.mean.values.temp$mean, num.genes.kept = 21744, censoredPoint = censoredPoint)\n",
    "    gamma.fit.temp$matrix<-name\n",
    "    gamma.fits<-rbind(gamma.fits,gamma.fit.temp) \n",
    "}"
   ]
  },
  {
   "cell_type": "code",
   "execution_count": 79,
   "metadata": {},
   "outputs": [
    {
     "name": "stdout",
     "output_type": "stream",
     "text": [
      "               p1        p2        s1        s2       r1         r2      matrix\n",
      "shape  0.01440194 0.9340559 0.2667786 0.2133076 4.914669 0.08341440 ST_data_100\n",
      "shape1 0.02041075 0.9280153 0.2630057 0.2055471 4.781682 0.08053810  ST_data_75\n",
      "shape2 0.02822128 0.9202059 0.2574745 0.1947074 4.542510 0.07636226  ST_data_50\n",
      "shape3 0.04711828 0.9013174 0.2498386 0.1774275 4.227618 0.07056010  ST_data_25\n"
     ]
    }
   ],
   "source": [
    "print(gamma.fits)"
   ]
  },
  {
   "cell_type": "code",
   "execution_count": 110,
   "metadata": {},
   "outputs": [],
   "source": [
    "g<-visualize.gamma.fits(norm.mean.values$mean[norm.mean.values$matrix==\"ST_data_100\"], gamma.fits[gamma.fits$matrix==\"ST_data_100\",],\n",
    "nGenes=21000)"
   ]
  },
  {
   "cell_type": "code",
   "execution_count": 111,
   "metadata": {},
   "outputs": [
    {
     "name": "stdout",
     "output_type": "stream",
     "text": [
      "  mean.umi      matrix\n",
      "1 3975.615 ST_data_100\n",
      "2 3981.438  ST_data_75\n",
      "3 4003.189  ST_data_50\n",
      "4 3986.845  ST_data_25\n"
     ]
    }
   ],
   "source": [
    "#Estimate the mean umi values per cell for each matrix\n",
    "umi.values<-NULL\n",
    "for(name in names(total)){\n",
    "    mean.umi<-meanUMI.calculation(total[[name]])\n",
    "    umi.values<-rbind(umi.values,data.frame(mean.umi,matrix=name)) \n",
    "}\n",
    "print(umi.values)"
   ]
  },
  {
   "cell_type": "code",
   "execution_count": 112,
   "metadata": {},
   "outputs": [],
   "source": [
    "gamma.fits<-merge(gamma.fits,umi.values,by=\"matrix\")\n",
    "gamma.fits<-convert.gamma.parameters(gamma.fits)"
   ]
  },
  {
   "cell_type": "code",
   "execution_count": null,
   "metadata": {},
   "outputs": [],
   "source": [
    "gamma.linear.fit.new<-umi.gamma.relation(gamma.fits, variable = \"mean.umi\")"
   ]
  },
  {
   "cell_type": "code",
   "execution_count": null,
   "metadata": {},
   "outputs": [],
   "source": [
    "###compare estimated means with original means\n",
    "\n",
    "g<-visualize.gamma.fits(norm.mean.values$mean[norm.mean.values$matrix==\"GCA_data_75\"], gamma.fits[gamma.fits$matrix==\"GCA_data_75\",], nGenes=21744)"
   ]
  },
  {
   "cell_type": "code",
   "execution_count": 92,
   "metadata": {},
   "outputs": [],
   "source": [
    "mapped.reads<-data.frame(matrix=c(\"ST_data_100\",\"ST_data_75\",\"ST_data_50\",\"ST_data_25\"), transcriptome.mapped.reads=c(43524122,32395233,21365686,10981370))"
   ]
  },
  {
   "cell_type": "code",
   "execution_count": 93,
   "metadata": {},
   "outputs": [
    {
     "data": {
      "text/html": [
       "12280675"
      ],
      "text/latex": [
       "12280675"
      ],
      "text/markdown": [
       "12280675"
      ],
      "text/plain": [
       "[1] 12280675"
      ]
     },
     "metadata": {},
     "output_type": "display_data"
    },
    {
     "data": {
      "text/html": [
       "8958235"
      ],
      "text/latex": [
       "8958235"
      ],
      "text/markdown": [
       "8958235"
      ],
      "text/plain": [
       "[1] 8958235"
      ]
     },
     "metadata": {},
     "output_type": "display_data"
    },
    {
     "data": {
      "text/html": [
       "6004784"
      ],
      "text/latex": [
       "6004784"
      ],
      "text/markdown": [
       "6004784"
      ],
      "text/plain": [
       "[1] 6004784"
      ]
     },
     "metadata": {},
     "output_type": "display_data"
    },
    {
     "data": {
      "text/html": [
       "2990134"
      ],
      "text/latex": [
       "2990134"
      ],
      "text/markdown": [
       "2990134"
      ],
      "text/plain": [
       "[1] 2990134"
      ]
     },
     "metadata": {},
     "output_type": "display_data"
    }
   ],
   "source": [
    "sum(ST_100@meta.data$nCount_RNA)\n",
    "sum(ST_75@meta.data$nCount_RNA)\n",
    "sum(ST_50@meta.data$nCount_RNA)\n",
    "sum(ST_25@meta.data$nCount_RNA)"
   ]
  },
  {
   "cell_type": "code",
   "execution_count": 94,
   "metadata": {},
   "outputs": [
    {
     "name": "stdout",
     "output_type": "stream",
     "text": [
      "       matrix mean.umi transcriptome.mapped.reads\n",
      "1 ST_data_100 3975.615                   43524122\n",
      "2  ST_data_25 3986.845                   10981370\n",
      "3  ST_data_50 4003.189                   21365686\n",
      "4  ST_data_75 3981.438                   32395233\n"
     ]
    },
    {
     "data": {
      "image/png": "[encoded data removed]",
      "text/plain": [
       "plot without title"
      ]
     },
     "metadata": {
      "image/png": {
       "height": 420,
       "width": 420
      },
      "text/plain": {
       "height": 420,
       "width": 420
      }
     },
     "output_type": "display_data"
    }
   ],
   "source": [
    "read.umis<-merge(umi.values,mapped.reads,by=\"matrix\")\n",
    "print(read.umis)\n",
    "ggplot(read.umis,aes(x=transcriptome.mapped.reads,y=mean.umi))+\n",
    "geom_point()+geom_line()"
   ]
  },
  {
   "cell_type": "code",
   "execution_count": 95,
   "metadata": {},
   "outputs": [
    {
     "name": "stdout",
     "output_type": "stream",
     "text": [
      "            intercept    reads\n",
      "(Intercept)  4149.011 -9.54752\n"
     ]
    }
   ],
   "source": [
    "read.umi.fit.new<-umi.read.relation(read.umis)\n",
    "print(read.umi.fit.new)"
   ]
  },
  {
   "cell_type": "code",
   "execution_count": 96,
   "metadata": {},
   "outputs": [
    {
     "name": "stdout",
     "output_type": "stream",
     "text": [
      "  asymptDisp extraPois\n",
      "1  0.4951157 0.1480056\n"
     ]
    }
   ],
   "source": [
    "disp.fun.general.new<-dispersion.function.estimation(disp.param)\n",
    "print(disp.fun.general.new)"
   ]
  },
  {
   "cell_type": "code",
   "execution_count": null,
   "metadata": {},
   "outputs": [],
   "source": [
    "\n",
    "\n",
    "***Perform power calculation using this model data and AGP DEGs***\n",
    "\n",
    "\n"
   ]
  },
  {
   "cell_type": "code",
   "execution_count": 97,
   "metadata": {},
   "outputs": [],
   "source": [
    "###Import DEGs from AGP paper CD4+ T cells\n",
    "\n",
    "setwd(\"/home/jovyan/data/arthur_grant\")\n",
    "agp<-read.csv(\"AGP_data.csv\")\n",
    "agp<-dplyr::select(agp, name, Gene, FoldChange, p_value)"
   ]
  },
  {
   "cell_type": "code",
   "execution_count": 98,
   "metadata": {},
   "outputs": [],
   "source": [
    "rank<-gene.rank.calculation(data_100, agp$Gene)"
   ]
  },
  {
   "cell_type": "code",
   "execution_count": 99,
   "metadata": {},
   "outputs": [],
   "source": [
    "colnames(rank)<-c(\"Gene\", \"cumFraction\", \"rank\")\n",
    "agp_ref<-merge(agp, rank, by = \"Gene\")"
   ]
  },
  {
   "cell_type": "code",
   "execution_count": 101,
   "metadata": {},
   "outputs": [
    {
     "data": {
      "text/html": [
       "<style>\n",
       ".list-inline {list-style: none; margin:0; padding: 0}\n",
       ".list-inline>li {display: inline-block}\n",
       ".list-inline>li:not(:last-child)::after {content: \"\\00b7\"; padding: 0 .5ex}\n",
       "</style>\n",
       "<ol class=list-inline><li>33538</li><li>3089</li></ol>\n"
      ],
      "text/latex": [
       "\\begin{enumerate*}\n",
       "\\item 33538\n",
       "\\item 3089\n",
       "\\end{enumerate*}\n"
      ],
      "text/markdown": [
       "1. 33538\n",
       "2. 3089\n",
       "\n",
       "\n"
      ],
      "text/plain": [
       "[1] 33538  3089"
      ]
     },
     "metadata": {},
     "output_type": "display_data"
    },
    {
     "data": {
      "text/html": [
       "12280675"
      ],
      "text/latex": [
       "12280675"
      ],
      "text/markdown": [
       "12280675"
      ],
      "text/plain": [
       "[1] 12280675"
      ]
     },
     "metadata": {},
     "output_type": "display_data"
    }
   ],
   "source": [
    "dim(ST_100)\n",
    "sum(ST_100@meta.data$nCount_RNA)"
   ]
  },
  {
   "cell_type": "code",
   "execution_count": 102,
   "metadata": {},
   "outputs": [],
   "source": [
    "agp_ref<-agp_ref[agp_ref$FoldChange>1.2,]"
   ]
  },
  {
   "cell_type": "code",
   "execution_count": 103,
   "metadata": {},
   "outputs": [],
   "source": [
    "transcriptome.mapped.reads<-14064027\n",
    "nGenes<-22506\n",
    "ct.freq<-0.4\n",
    "ct<-\"CD4_T\"\n",
    "cellsPerLane<-20000\n",
    "\n",
    "cellsPerCelltype<-c(10000, 12500, 15000, 17500, 20000)\n",
    "sampleSize<-c(4,6,8,10,12)\n",
    "ref.study.name<-\"agp\""
   ]
  },
  {
   "cell_type": "code",
   "execution_count": null,
   "metadata": {},
   "outputs": [],
   "source": [
    "read.umi.fit.new$ct<-\"CD4_T\"\n",
    "gamma.linear.fit.new$ct<-\"CD4_T\"\n",
    "disp.fun.general.new$ct<-\"CD4_T\""
   ]
  },
  {
   "cell_type": "code",
   "execution_count": 141,
   "metadata": {},
   "outputs": [],
   "source": [
    "param.combis<-expand.grid(cellsPerCelltype,sampleSize, unique(agp_ref$name[agp_ref$name==\"AGP\"]))\n",
    "colnames(param.combis)<-c(\"cellsPerCelltype\",\"sampleSize\",\"refStudyName\")"
   ]
  },
  {
   "cell_type": "code",
   "execution_count": 142,
   "metadata": {},
   "outputs": [],
   "source": [
    "res<-lapply(1:nrow(param.combis),function(i) \n",
    "    power.general.restrictedDoublets(param.combis$sampleSize[i],\n",
    "                                     param.combis$cellsPerCelltype[i], \n",
    "                                     transcriptome.mapped.reads,\n",
    "                                     ct.freq, \n",
    "                                     \"de\",\n",
    "                                     ref.study=agp_ref,\n",
    "                                     ref.study.name = \"AGP\", \n",
    "                                     cellsPerLane,\n",
    "                                     read.umi.fit.new, \n",
    "                                     gamma.linear.fit.new,\n",
    "                                     ct=\"New_ct\",\n",
    "                                     disp.fun.param=disp.fun.general.new, \n",
    "                                     mappingEfficiency = 1, \n",
    "                                     multipletRate=0,\n",
    "                                     multipletFactor=1, \n",
    "                                     min.UMI.counts = 10,\n",
    "                                     perc.indiv.expr = 0.5,\n",
    "                                     nGenes=21000))\n",
    "            \n",
    "power.DE.study<-rbindlist(res)"
   ]
  },
  {
   "cell_type": "code",
   "execution_count": 143,
   "metadata": {},
   "outputs": [],
   "source": [
    "power.DE.study<-reshape2::melt(power.DE.study, id.vars=c(\"name\",\"sampleSize\",\"totalCells\",\n",
    "                                         \"usableCells\",\"multipletFraction\",\n",
    "                                         \"ctCells\",\"readDepth\",\n",
    "                                         \"readDepthSinglet\",\"mappedReadDepth\",\n",
    "                                         \"expressedGenes\"))\n",
    "power.DE.study$variable<-factor(power.DE.study$variable, levels=c(\"exp.probs\",\"power\",\"powerDetect\"))\n",
    "var.labs<-c(\"Expression probability\", \"DE power\", \"Detection power\")\n",
    "names(var.labs)<-c(\"exp.probs\",\"power\",\"powerDetect\") \n",
    "power.DE.study$ctCells<-as.factor(power.DE.study$ctCells)\n",
    "\n",
    "power.DE.study$sampleSize<-as.factor(power.DE.study$sampleSize) \n",
    "\n"
   ]
  },
  {
   "cell_type": "code",
   "execution_count": 144,
   "metadata": {},
   "outputs": [],
   "source": [
    "g.DE<-ggplot(power.DE.study,aes(x=ctCells,y=sampleSize,fill=value))+\n",
    "geom_tile()+\n",
    "geom_text(aes(label = round(value, 1)), size =5)+\n",
    "facet_wrap(~variable,ncol=3,labeller = labeller(variable=var.labs))+ \n",
    "xlab(\"Number of measured cells per cell type and individual\")+ \n",
    "ylab(\"Total sample size\")+\n",
    "scale_fill_viridis(\"Probability\")+\n",
    "theme_bw()+\n",
    "theme(axis.title=element_text(size=10),\n",
    "      axis.text=element_text(size=8), legend.title=element_text(size=8), legend.text=element_text(size=8))+coord_fixed()+\n",
    "theme(axis.text.x = element_text(angle = 90, vjust = 0.5, hjust=1))"
   ]
  },
  {
   "cell_type": "code",
   "execution_count": 145,
   "metadata": {},
   "outputs": [
    {
     "data": {
      "image/png": "[encoded data removed]",
      "text/plain": [
       "plot without title"
      ]
     },
     "metadata": {
      "image/png": {
       "height": 900,
       "width": 900
      },
      "text/plain": {
       "height": 900,
       "width": 900
      }
     },
     "output_type": "display_data"
    }
   ],
   "source": [
    "print(g.DE)"
   ]
  },
  {
   "cell_type": "code",
   "execution_count": null,
   "metadata": {},
   "outputs": [],
   "source": []
  }
 ],
 "metadata": {
  "kernelspec": {
   "display_name": "Python 3",
   "language": "python",
   "name": "python3"
  },
  "language_info": {
   "codemirror_mode": {
    "name": "ipython",
    "version": 3
   },
   "file_extension": ".py",
   "mimetype": "text/x-python",
   "name": "python",
   "nbconvert_exporter": "python",
   "pygments_lexer": "ipython3",
   "version": "3.7.6"
  }
 },
 "nbformat": 4,
 "nbformat_minor": 4
}
